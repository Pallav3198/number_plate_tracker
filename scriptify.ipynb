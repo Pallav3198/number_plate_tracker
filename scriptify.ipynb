{
 "cells": [
  {
   "cell_type": "code",
   "execution_count": 5,
   "metadata": {},
   "outputs": [],
   "source": [
    "from ultralytics import YOLO\n",
    "import cv2\n",
    "import numpy as np\n",
    "import matplotlib.pyplot as plt\n",
    "\n",
    "# import util\n",
    "from sort.sort import *\n",
    "# from util import get_car, read_license_plate,\n",
    "from utils.utils import get_car,read_license_plate"
   ]
  },
  {
   "cell_type": "code",
   "execution_count": 6,
   "metadata": {},
   "outputs": [],
   "source": [
    "# LOADS THE MODELS\n",
    "def load_models(car_detection_path,license_plate_detection_path):\n",
    "    \n",
    "    coco_model = YOLO(car_detection_path)\n",
    "    license_plate_detector = YOLO(license_plate_detection_path)\n",
    "\n",
    "    return coco_model,license_plate_detector"
   ]
  },
  {
   "cell_type": "code",
   "execution_count": 7,
   "metadata": {},
   "outputs": [],
   "source": [
    "# Filter Vehicular Detections\n",
    "def filter_vehicle_detections(detections):\n",
    "    vehicle_classes = [2,3,5,7] # Car,bike,truck\n",
    "    vehicle_detections = list()\n",
    "    for detection in detections.boxes.data.tolist():\n",
    "        x1,y1,x2,y2,conf_score,class_id = detection\n",
    "        if(class_id in vehicle_classes): \n",
    "            vehicle_detections.append(detection) # Bounding boxes of the car detections"
   ]
  },
  {
   "cell_type": "code",
   "execution_count": 8,
   "metadata": {},
   "outputs": [],
   "source": [
    "# Get License Plate text and Confidence Score\n",
    "def get_license(license_plate,track_ids):\n",
    "    x1,y1,x2,y2,conf_score,class_id = license_plate\n",
    "\n",
    "    # Assign license plate to the car\n",
    "    xcar1,ycar1,xcar2,ycar2,car_id = get_car(license_plate,track_ids) # Which license plate belongs to which car\n",
    "    # Crop the License Plate\n",
    "    license_plate_cropped = frame[int(y1):int(y2),int(x1):int(x2),:]\n",
    "    # Process this License Plate (BGR)\n",
    "    license_plate_grey = cv2.cvtColor(license_plate_cropped,cv2.COLOR_BGR2GRAY)\n",
    "    # Thresholding\n",
    "    _, license_plate_grey_thres = cv2.threshold(license_plate_grey, 64, 255, cv2.THRESH_BINARY_INV)\n",
    "    #cv2.imshow('grey_threshold',license_plate_grey_thres)\n",
    "\n",
    "    license_plate_text, license_plate_text_score = read_license_plate(license_plate_grey_thres)\n",
    "    \n",
    "    car_detection_values = (xcar1,ycar1,xcar2,ycar2,car_id)\n",
    "    license_detection_values = (x1,y1,x2,y2,conf_score,class_id)\n",
    "\n",
    "    return license_plate_text, license_plate_text_score,car_detection_values,license_detection_values"
   ]
  },
  {
   "cell_type": "code",
   "execution_count": 10,
   "metadata": {},
   "outputs": [
    {
     "name": "stderr",
     "output_type": "stream",
     "text": [
      "\n",
      "0: 384x640 21 cars, 1 bus, 2 trucks, 101.8ms\n",
      "Speed: 3.1ms preprocess, 101.8ms inference, 1.2ms postprocess per image at shape (1, 3, 640, 640)\n"
     ]
    },
    {
     "ename": "TypeError",
     "evalue": "len() of unsized object",
     "output_type": "error",
     "traceback": [
      "\u001b[0;31m---------------------------------------------------------------------------\u001b[0m",
      "\u001b[0;31mTypeError\u001b[0m                                 Traceback (most recent call last)",
      "Cell \u001b[0;32mIn[10], line 23\u001b[0m\n\u001b[1;32m     21\u001b[0m     vehicle_detections \u001b[38;5;241m=\u001b[39m filter_vehicle_detections(detections)\n\u001b[1;32m     22\u001b[0m \u001b[38;5;66;03m# Track the vehicles using track ids\u001b[39;00m\n\u001b[0;32m---> 23\u001b[0m track_ids \u001b[38;5;241m=\u001b[39m \u001b[43mmot_tracker\u001b[49m\u001b[38;5;241;43m.\u001b[39;49m\u001b[43mupdate\u001b[49m\u001b[43m(\u001b[49m\u001b[43mnp\u001b[49m\u001b[38;5;241;43m.\u001b[39;49m\u001b[43masarray\u001b[49m\u001b[43m(\u001b[49m\u001b[43mvehicle_detections\u001b[49m\u001b[43m)\u001b[49m\u001b[43m)\u001b[49m\n\u001b[1;32m     24\u001b[0m \u001b[38;5;66;03m# Detect License Plates\u001b[39;00m\n\u001b[1;32m     25\u001b[0m license_plates \u001b[38;5;241m=\u001b[39m license_plate_detector(frame)[\u001b[38;5;241m0\u001b[39m]\n",
      "File \u001b[0;32m~/Documents/License Plate Recognition/inference_pipeline/sort/sort.py:232\u001b[0m, in \u001b[0;36mSort.update\u001b[0;34m(self, dets)\u001b[0m\n\u001b[1;32m    230\u001b[0m \u001b[38;5;28;01mfor\u001b[39;00m t \u001b[38;5;129;01min\u001b[39;00m \u001b[38;5;28mreversed\u001b[39m(to_del):\n\u001b[1;32m    231\u001b[0m   \u001b[38;5;28mself\u001b[39m\u001b[38;5;241m.\u001b[39mtrackers\u001b[38;5;241m.\u001b[39mpop(t)\n\u001b[0;32m--> 232\u001b[0m matched, unmatched_dets, unmatched_trks \u001b[38;5;241m=\u001b[39m \u001b[43massociate_detections_to_trackers\u001b[49m\u001b[43m(\u001b[49m\u001b[43mdets\u001b[49m\u001b[43m,\u001b[49m\u001b[43mtrks\u001b[49m\u001b[43m,\u001b[49m\u001b[43m \u001b[49m\u001b[38;5;28;43mself\u001b[39;49m\u001b[38;5;241;43m.\u001b[39;49m\u001b[43miou_threshold\u001b[49m\u001b[43m)\u001b[49m\n\u001b[1;32m    234\u001b[0m \u001b[38;5;66;03m# update matched trackers with assigned detections\u001b[39;00m\n\u001b[1;32m    235\u001b[0m \u001b[38;5;28;01mfor\u001b[39;00m m \u001b[38;5;129;01min\u001b[39;00m matched:\n",
      "File \u001b[0;32m~/Documents/License Plate Recognition/inference_pipeline/sort/sort.py:161\u001b[0m, in \u001b[0;36massociate_detections_to_trackers\u001b[0;34m(detections, trackers, iou_threshold)\u001b[0m\n\u001b[1;32m    155\u001b[0m \u001b[38;5;250m\u001b[39m\u001b[38;5;124;03m\"\"\"\u001b[39;00m\n\u001b[1;32m    156\u001b[0m \u001b[38;5;124;03mAssigns detections to tracked object (both represented as bounding boxes)\u001b[39;00m\n\u001b[1;32m    157\u001b[0m \n\u001b[1;32m    158\u001b[0m \u001b[38;5;124;03mReturns 3 lists of matches, unmatched_detections and unmatched_trackers\u001b[39;00m\n\u001b[1;32m    159\u001b[0m \u001b[38;5;124;03m\"\"\"\u001b[39;00m\n\u001b[1;32m    160\u001b[0m \u001b[38;5;28;01mif\u001b[39;00m(\u001b[38;5;28mlen\u001b[39m(trackers)\u001b[38;5;241m==\u001b[39m\u001b[38;5;241m0\u001b[39m):\n\u001b[0;32m--> 161\u001b[0m   \u001b[38;5;28;01mreturn\u001b[39;00m np\u001b[38;5;241m.\u001b[39mempty((\u001b[38;5;241m0\u001b[39m,\u001b[38;5;241m2\u001b[39m),dtype\u001b[38;5;241m=\u001b[39m\u001b[38;5;28mint\u001b[39m), np\u001b[38;5;241m.\u001b[39marange(\u001b[38;5;28;43mlen\u001b[39;49m\u001b[43m(\u001b[49m\u001b[43mdetections\u001b[49m\u001b[43m)\u001b[49m), np\u001b[38;5;241m.\u001b[39mempty((\u001b[38;5;241m0\u001b[39m,\u001b[38;5;241m5\u001b[39m),dtype\u001b[38;5;241m=\u001b[39m\u001b[38;5;28mint\u001b[39m)\n\u001b[1;32m    163\u001b[0m iou_matrix \u001b[38;5;241m=\u001b[39m iou_batch(detections, trackers)\n\u001b[1;32m    165\u001b[0m \u001b[38;5;28;01mif\u001b[39;00m \u001b[38;5;28mmin\u001b[39m(iou_matrix\u001b[38;5;241m.\u001b[39mshape) \u001b[38;5;241m>\u001b[39m \u001b[38;5;241m0\u001b[39m:\n",
      "\u001b[0;31mTypeError\u001b[0m: len() of unsized object"
     ]
    }
   ],
   "source": [
    "#______Change Script________\n",
    "\n",
    "# Get the Models\n",
    "car_detection_path = './models/yolov8n.pt'\n",
    "license_plate_detection_path = './models/license_plate_detector.pt'\n",
    "coco_model,license_plate_detector = load_models(car_detection_path,license_plate_detection_path)\n",
    "mot_tracker = Sort()\n",
    "\n",
    "# Read the Video\n",
    "cap = cv2.VideoCapture('./data/sample.mp4')\n",
    "\n",
    "results = {}\n",
    "frame_nmr = -1\n",
    "ret = True\n",
    "while ret and frame_nmr<10:\n",
    "    frame_nmr += 1\n",
    "    ret, frame = cap.read()\n",
    "    if ret:\n",
    "        # Detect Vehicles\n",
    "        detections = coco_model(frame)[0]\n",
    "        vehicle_detections = filter_vehicle_detections(detections)\n",
    "    # Track the vehicles using track ids\n",
    "    track_ids = mot_tracker.update(np.asarray(vehicle_detections))\n",
    "    # Detect License Plates\n",
    "    license_plates = license_plate_detector(frame)[0]\n",
    "    for license_plate in license_plates.boxes.data.tolist():\n",
    "        license_plate_text, license_plate_text_score,car_id, car_detection_values,license_detection_values = get_license(license_plate,track_ids)\n",
    "        xcar1,ycar1,xcar2,ycar2,car_id = (xcar1,ycar1,xcar2,ycar2,car_id)\n",
    "        x1,y1,x2,y2,conf_score,class_id = license_detection_values \n",
    "        if(license_plate_text is not None):\n",
    "            key = f'Frame:{frame_nmr}; CarID:{car_id}'\n",
    "\n",
    "            results[key] = {\n",
    "\n",
    "                'car': {'bbox': [xcar1, ycar1, xcar2, ycar2]},\n",
    "                'license_plate': {'bbox': [x1, y1, x2, y2],\n",
    "                'text': license_plate_text,\n",
    "                'bbox_score': conf_score,\n",
    "                'text_score': license_plate_text_score}\n",
    "\n",
    "                }"
   ]
  },
  {
   "cell_type": "code",
   "execution_count": null,
   "metadata": {},
   "outputs": [],
   "source": []
  }
 ],
 "metadata": {
  "kernelspec": {
   "display_name": "cvenv",
   "language": "python",
   "name": "python3"
  },
  "language_info": {
   "codemirror_mode": {
    "name": "ipython",
    "version": 3
   },
   "file_extension": ".py",
   "mimetype": "text/x-python",
   "name": "python",
   "nbconvert_exporter": "python",
   "pygments_lexer": "ipython3",
   "version": "3.10.6"
  }
 },
 "nbformat": 4,
 "nbformat_minor": 2
}
